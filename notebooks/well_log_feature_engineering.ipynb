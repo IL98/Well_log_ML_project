{
 "cells": [
  {
   "cell_type": "code",
   "execution_count": 1,
   "metadata": {
    "id": "7hiTKz60siKO"
   },
   "outputs": [],
   "source": [
    "import numpy as np\n",
    "import pandas as pd\n",
    "\n",
    "import matplotlib.pyplot as plt"
   ]
  },
  {
   "cell_type": "code",
   "execution_count": 2,
   "metadata": {
    "colab": {
     "base_uri": "https://localhost:8080/",
     "height": 419
    },
    "id": "8wRXMvA1xKwM",
    "outputId": "51a97f70-d198-4205-c5fd-1f30473df2b1"
   },
   "outputs": [
    {
     "data": {
      "text/html": [
       "<div>\n",
       "<style scoped>\n",
       "    .dataframe tbody tr th:only-of-type {\n",
       "        vertical-align: middle;\n",
       "    }\n",
       "\n",
       "    .dataframe tbody tr th {\n",
       "        vertical-align: top;\n",
       "    }\n",
       "\n",
       "    .dataframe thead th {\n",
       "        text-align: right;\n",
       "    }\n",
       "</style>\n",
       "<table border=\"1\" class=\"dataframe\">\n",
       "  <thead>\n",
       "    <tr style=\"text-align: right;\">\n",
       "      <th></th>\n",
       "      <th>wellName</th>\n",
       "      <th>datasetName</th>\n",
       "      <th>DEPTH</th>\n",
       "      <th>RESISTIVITY</th>\n",
       "      <th>GAMMA RAY</th>\n",
       "      <th>DENSITY LOG</th>\n",
       "      <th>SONIC LOG P-WAVE</th>\n",
       "      <th>SONIC LOG S- WAVE</th>\n",
       "      <th>SONIC LOG</th>\n",
       "      <th>CALIPER</th>\n",
       "      <th>NEUTRON LOG</th>\n",
       "      <th>TOTAL POROSITY</th>\n",
       "      <th>TOTAL PERMEABILIITY</th>\n",
       "    </tr>\n",
       "  </thead>\n",
       "  <tbody>\n",
       "    <tr>\n",
       "      <th>0</th>\n",
       "      <td>170</td>\n",
       "      <td>170</td>\n",
       "      <td>-2796.980072</td>\n",
       "      <td>19.2981</td>\n",
       "      <td>98.8495</td>\n",
       "      <td>2.4631</td>\n",
       "      <td>246.74</td>\n",
       "      <td>426.42</td>\n",
       "      <td>721.54</td>\n",
       "      <td>218.6082</td>\n",
       "      <td>0.2815</td>\n",
       "      <td>0.1395</td>\n",
       "      <td>0.0129</td>\n",
       "    </tr>\n",
       "    <tr>\n",
       "      <th>1</th>\n",
       "      <td>170</td>\n",
       "      <td>170</td>\n",
       "      <td>-2796.921682</td>\n",
       "      <td>20.1398</td>\n",
       "      <td>97.8442</td>\n",
       "      <td>2.4640</td>\n",
       "      <td>247.35</td>\n",
       "      <td>427.70</td>\n",
       "      <td>720.39</td>\n",
       "      <td>218.2429</td>\n",
       "      <td>0.2834</td>\n",
       "      <td>0.1566</td>\n",
       "      <td>0.0124</td>\n",
       "    </tr>\n",
       "    <tr>\n",
       "      <th>2</th>\n",
       "      <td>170</td>\n",
       "      <td>170</td>\n",
       "      <td>-2796.863293</td>\n",
       "      <td>21.0939</td>\n",
       "      <td>96.7833</td>\n",
       "      <td>2.4621</td>\n",
       "      <td>247.70</td>\n",
       "      <td>428.70</td>\n",
       "      <td>719.47</td>\n",
       "      <td>220.6745</td>\n",
       "      <td>0.2854</td>\n",
       "      <td>0.1569</td>\n",
       "      <td>0.0119</td>\n",
       "    </tr>\n",
       "    <tr>\n",
       "      <th>3</th>\n",
       "      <td>170</td>\n",
       "      <td>170</td>\n",
       "      <td>-2796.804903</td>\n",
       "      <td>20.9733</td>\n",
       "      <td>96.1450</td>\n",
       "      <td>2.4570</td>\n",
       "      <td>247.83</td>\n",
       "      <td>429.46</td>\n",
       "      <td>719.07</td>\n",
       "      <td>223.0423</td>\n",
       "      <td>0.2898</td>\n",
       "      <td>0.1581</td>\n",
       "      <td>0.0117</td>\n",
       "    </tr>\n",
       "    <tr>\n",
       "      <th>4</th>\n",
       "      <td>170</td>\n",
       "      <td>170</td>\n",
       "      <td>-2796.746514</td>\n",
       "      <td>20.6233</td>\n",
       "      <td>95.4149</td>\n",
       "      <td>2.4529</td>\n",
       "      <td>247.86</td>\n",
       "      <td>430.14</td>\n",
       "      <td>719.01</td>\n",
       "      <td>225.1393</td>\n",
       "      <td>0.2961</td>\n",
       "      <td>0.1595</td>\n",
       "      <td>0.0114</td>\n",
       "    </tr>\n",
       "    <tr>\n",
       "      <th>...</th>\n",
       "      <td>...</td>\n",
       "      <td>...</td>\n",
       "      <td>...</td>\n",
       "      <td>...</td>\n",
       "      <td>...</td>\n",
       "      <td>...</td>\n",
       "      <td>...</td>\n",
       "      <td>...</td>\n",
       "      <td>...</td>\n",
       "      <td>...</td>\n",
       "      <td>...</td>\n",
       "      <td>...</td>\n",
       "      <td>...</td>\n",
       "    </tr>\n",
       "    <tr>\n",
       "      <th>7632</th>\n",
       "      <td>170</td>\n",
       "      <td>170</td>\n",
       "      <td>-2373.117163</td>\n",
       "      <td>6.1137</td>\n",
       "      <td>81.8999</td>\n",
       "      <td>2.3026</td>\n",
       "      <td>281.31</td>\n",
       "      <td>518.86</td>\n",
       "      <td>774.28</td>\n",
       "      <td>219.7098</td>\n",
       "      <td>0.2956</td>\n",
       "      <td>0.2329</td>\n",
       "      <td>3.6382</td>\n",
       "    </tr>\n",
       "    <tr>\n",
       "      <th>7633</th>\n",
       "      <td>170</td>\n",
       "      <td>170</td>\n",
       "      <td>-2373.043312</td>\n",
       "      <td>5.9602</td>\n",
       "      <td>79.9875</td>\n",
       "      <td>2.3015</td>\n",
       "      <td>281.33</td>\n",
       "      <td>521.09</td>\n",
       "      <td>774.48</td>\n",
       "      <td>219.8672</td>\n",
       "      <td>0.2920</td>\n",
       "      <td>0.2340</td>\n",
       "      <td>4.6626</td>\n",
       "    </tr>\n",
       "    <tr>\n",
       "      <th>7634</th>\n",
       "      <td>170</td>\n",
       "      <td>170</td>\n",
       "      <td>-2372.969461</td>\n",
       "      <td>5.8493</td>\n",
       "      <td>78.5503</td>\n",
       "      <td>2.2966</td>\n",
       "      <td>281.34</td>\n",
       "      <td>523.34</td>\n",
       "      <td>774.56</td>\n",
       "      <td>222.1264</td>\n",
       "      <td>0.2863</td>\n",
       "      <td>0.2348</td>\n",
       "      <td>6.5487</td>\n",
       "    </tr>\n",
       "    <tr>\n",
       "      <th>7635</th>\n",
       "      <td>170</td>\n",
       "      <td>170</td>\n",
       "      <td>-2372.895610</td>\n",
       "      <td>5.7613</td>\n",
       "      <td>77.2883</td>\n",
       "      <td>2.2912</td>\n",
       "      <td>281.36</td>\n",
       "      <td>525.39</td>\n",
       "      <td>774.46</td>\n",
       "      <td>223.3670</td>\n",
       "      <td>0.2817</td>\n",
       "      <td>0.2356</td>\n",
       "      <td>8.8363</td>\n",
       "    </tr>\n",
       "    <tr>\n",
       "      <th>7636</th>\n",
       "      <td>170</td>\n",
       "      <td>170</td>\n",
       "      <td>-2372.821759</td>\n",
       "      <td>5.6987</td>\n",
       "      <td>76.2196</td>\n",
       "      <td>2.2854</td>\n",
       "      <td>281.39</td>\n",
       "      <td>527.07</td>\n",
       "      <td>774.19</td>\n",
       "      <td>223.1962</td>\n",
       "      <td>0.2787</td>\n",
       "      <td>0.2366</td>\n",
       "      <td>11.2896</td>\n",
       "    </tr>\n",
       "  </tbody>\n",
       "</table>\n",
       "<p>7637 rows × 13 columns</p>\n",
       "</div>"
      ],
      "text/plain": [
       "      wellName  datasetName        DEPTH  RESISTIVITY  GAMMA RAY  DENSITY LOG  \\\n",
       "0          170          170 -2796.980072      19.2981    98.8495       2.4631   \n",
       "1          170          170 -2796.921682      20.1398    97.8442       2.4640   \n",
       "2          170          170 -2796.863293      21.0939    96.7833       2.4621   \n",
       "3          170          170 -2796.804903      20.9733    96.1450       2.4570   \n",
       "4          170          170 -2796.746514      20.6233    95.4149       2.4529   \n",
       "...        ...          ...          ...          ...        ...          ...   \n",
       "7632       170          170 -2373.117163       6.1137    81.8999       2.3026   \n",
       "7633       170          170 -2373.043312       5.9602    79.9875       2.3015   \n",
       "7634       170          170 -2372.969461       5.8493    78.5503       2.2966   \n",
       "7635       170          170 -2372.895610       5.7613    77.2883       2.2912   \n",
       "7636       170          170 -2372.821759       5.6987    76.2196       2.2854   \n",
       "\n",
       "      SONIC LOG P-WAVE  SONIC LOG S- WAVE  SONIC LOG   CALIPER  NEUTRON LOG  \\\n",
       "0               246.74             426.42     721.54  218.6082       0.2815   \n",
       "1               247.35             427.70     720.39  218.2429       0.2834   \n",
       "2               247.70             428.70     719.47  220.6745       0.2854   \n",
       "3               247.83             429.46     719.07  223.0423       0.2898   \n",
       "4               247.86             430.14     719.01  225.1393       0.2961   \n",
       "...                ...                ...        ...       ...          ...   \n",
       "7632            281.31             518.86     774.28  219.7098       0.2956   \n",
       "7633            281.33             521.09     774.48  219.8672       0.2920   \n",
       "7634            281.34             523.34     774.56  222.1264       0.2863   \n",
       "7635            281.36             525.39     774.46  223.3670       0.2817   \n",
       "7636            281.39             527.07     774.19  223.1962       0.2787   \n",
       "\n",
       "      TOTAL POROSITY   TOTAL PERMEABILIITY  \n",
       "0              0.1395               0.0129  \n",
       "1              0.1566               0.0124  \n",
       "2              0.1569               0.0119  \n",
       "3              0.1581               0.0117  \n",
       "4              0.1595               0.0114  \n",
       "...               ...                  ...  \n",
       "7632           0.2329               3.6382  \n",
       "7633           0.2340               4.6626  \n",
       "7634           0.2348               6.5487  \n",
       "7635           0.2356               8.8363  \n",
       "7636           0.2366              11.2896  \n",
       "\n",
       "[7637 rows x 13 columns]"
      ]
     },
     "execution_count": 2,
     "metadata": {},
     "output_type": "execute_result"
    }
   ],
   "source": [
    "df = pd.read_csv('../data/170.csv', sep=\";\", header=None)\n",
    "\n",
    "df[10:].to_csv(\"../data/upd170.csv\", \n",
    "                    header=None, \n",
    "                    index=None)\n",
    "\n",
    "df = pd.read_csv(\"../data/upd170.csv\", decimal=',')\n",
    "\n",
    "df"
   ]
  },
  {
   "cell_type": "code",
   "execution_count": 3,
   "metadata": {
    "id": "t5Lk---kxLrA"
   },
   "outputs": [],
   "source": [
    "data = df.loc[:, ['DEPTH', 'RESISTIVITY', 'GAMMA RAY',\n",
    "       'DENSITY LOG', 'SONIC LOG P-WAVE', 'SONIC LOG S- WAVE', 'SONIC LOG',\n",
    "       'CALIPER', 'NEUTRON LOG', 'TOTAL POROSITY ']]\n",
    "\n",
    "for i, column in enumerate(['RESISTIVITY', 'GAMMA RAY',\n",
    "       'DENSITY LOG', 'SONIC LOG P-WAVE', 'SONIC LOG S- WAVE', 'SONIC LOG',\n",
    "       'CALIPER', 'NEUTRON LOG']):\n",
    "  data[column].fillna(value=None, method='ffill', \n",
    "                      axis=None, downcast=None,\n",
    "                      inplace=True)"
   ]
  },
  {
   "cell_type": "code",
   "execution_count": 4,
   "metadata": {
    "id": "_d3qMMrI-mI_"
   },
   "outputs": [],
   "source": [
    "def update_features_data(data, features):\n",
    "    window_mean = {column: [] for column in features}\n",
    "    window_std = {column: [] for column in features}\n",
    "    window_lag = {column: [] for column in features}\n",
    "    window_diff = {column: [] for column in features}\n",
    "\n",
    "    buffer_1m = []\n",
    "\n",
    "    for index, row in data.iterrows():\n",
    "        cur_depth = row['DEPTH']\n",
    "        i=0\n",
    "        for i, buf_row in enumerate(buffer_1m):\n",
    "          if cur_depth - 1. <= buf_row['DEPTH']:\n",
    "            break\n",
    "        buffer_1m = buffer_1m[i:]\n",
    "        buffer_1m.append(row)\n",
    "\n",
    "        #transforming given features\n",
    "\n",
    "        for column in features:\n",
    "          window_diff[column].append(buffer_1m[-1][column] - buffer_1m[0][column] if len(buffer_1m) else np.nan)    \n",
    "\n",
    "    for column in features:\n",
    "      data[\"window_dif \"+column] = window_diff[column]"
   ]
  },
  {
   "cell_type": "code",
   "execution_count": 5,
   "metadata": {
    "id": "uZ_R2go1HFtg"
   },
   "outputs": [],
   "source": [
    "update_features_data(data, features=['DENSITY LOG', 'NEUTRON LOG', 'GAMMA RAY'])\n",
    "\n",
    "data.drop(columns = 'DEPTH', inplace=True)"
   ]
  },
  {
   "cell_type": "code",
   "execution_count": 6,
   "metadata": {
    "id": "NuEjL3z1I0bE"
   },
   "outputs": [],
   "source": [
    "from sklearn.model_selection import TimeSeriesSplit"
   ]
  },
  {
   "cell_type": "code",
   "execution_count": 7,
   "metadata": {
    "id": "ccAk4JL1zSYs"
   },
   "outputs": [],
   "source": [
    "test_data = data.iloc[-2000:]\n",
    "\n",
    "X = data.drop(columns=[\"TOTAL POROSITY \"]).iloc[20:-2000].values\n",
    "y = data.iloc[20:-2000][\"TOTAL POROSITY \"].values\n",
    "\n",
    "X_test = test_data.drop(columns=[\"TOTAL POROSITY \"]).values\n",
    "y_test = test_data[\"TOTAL POROSITY \"].values"
   ]
  },
  {
   "cell_type": "code",
   "execution_count": 8,
   "metadata": {
    "colab": {
     "base_uri": "https://localhost:8080/"
    },
    "id": "OQ6Rt-qFJYl_",
    "outputId": "4b1ae879-f5c6-439d-b3e3-78171fb88dda"
   },
   "outputs": [
    {
     "data": {
      "text/plain": [
       "(5617, 11)"
      ]
     },
     "execution_count": 8,
     "metadata": {},
     "output_type": "execute_result"
    }
   ],
   "source": [
    "X.shape"
   ]
  },
  {
   "cell_type": "code",
   "execution_count": 9,
   "metadata": {
    "id": "LceZbCA1Josu"
   },
   "outputs": [],
   "source": [
    "from sklearn.linear_model import LinearRegression\n",
    "from sklearn.ensemble import RandomForestRegressor\n",
    "from sklearn.neighbors import KNeighborsRegressor\n",
    "\n",
    "from sklearn.preprocessing import StandardScaler\n",
    "\n",
    "from sklearn.pipeline import make_pipeline\n",
    "\n",
    "from xgboost import XGBRegressor\n",
    "\n",
    "from sklearn.metrics import mean_squared_error, mean_absolute_error, r2_score\n",
    "\n",
    "from sklearn.model_selection import ParameterGrid"
   ]
  },
  {
   "cell_type": "code",
   "execution_count": 10,
   "metadata": {
    "id": "Oc1TChcGJqm7"
   },
   "outputs": [],
   "source": [
    "def grid_search_time_series(method, init_params, param_grid, n_splits=4):\n",
    "\n",
    "  param_rmse = []\n",
    " \n",
    "  pg = ParameterGrid(param_grid)\n",
    "\n",
    "  for params in list(pg):\n",
    "    scores = []\n",
    "    tscv = TimeSeriesSplit(n_splits)\n",
    "    for train_index, test_index in tscv.split(X):\n",
    "      X_train, X_val = X[train_index], X[test_index]\n",
    "      y_train, y_val = y[train_index], y[test_index]\n",
    "\n",
    "      pipe = make_pipeline(StandardScaler(), method(**init_params, **params))\n",
    "\n",
    "      instance = pipe.fit(X_train, y_train)\n",
    "      \n",
    "      scores.append(mean_squared_error(pipe.predict(X_val), y_val))\n",
    "    \n",
    "    param_rmse.append(np.mean(scores))\n",
    "\n",
    "  ind = np.argmax(param_rmse)\n",
    "\n",
    "  return (pg[ind], param_rmse[ind])"
   ]
  },
  {
   "cell_type": "code",
   "execution_count": 11,
   "metadata": {
    "colab": {
     "base_uri": "https://localhost:8080/"
    },
    "id": "ciBTpQXdJr5x",
    "outputId": "569cac62-0cb6-40c6-b68d-82215e8c4f5e"
   },
   "outputs": [
    {
     "name": "stdout",
     "output_type": "stream",
     "text": [
      "best score for LinearRegression: 0.0007\n",
      "best score for RandomForestRegressor: 0.0007\n",
      "best score for XGBRegressor: 0.0004\n",
      "best score for KNeighborsRegressor: 0.0009\n"
     ]
    }
   ],
   "source": [
    "methods = [LinearRegression, RandomForestRegressor, XGBRegressor, KNeighborsRegressor]\n",
    "\n",
    "#param grids for grid search\n",
    "param_grid_list = [\n",
    "            {},\n",
    "           {\"n_estimators\": [10, 50, 100, 300],\n",
    "              \"max_depth\" : [None, 10, 15, 30],\n",
    "              \"max_features\": [\"auto\", \"sqrt\", \"log2\"],\n",
    "            \"bootstrap\" : [True, False]},\n",
    "\n",
    "            {\"max_depth \": [3, 6, 10, 20],\n",
    "             \"booster\": [\"gbtree\", \"dart\"]},\n",
    "             {\"n_neighbors\": [3, 5, 10],\n",
    "              \"weights\": ['uniform', 'distance']}\n",
    "\n",
    "]\n",
    "\n",
    "#init parameters for clustering methods\n",
    "init_params_list = [\n",
    "                    {\"n_jobs\": -1,\"normalize\": True},\n",
    "                    { \"random_state\": 42, \"n_jobs\": -1},\n",
    "                    {\"n_jobs\": -1, \"verbosity\":0, \"random_state\":42},\n",
    "                    {\"n_jobs\": -1, }\n",
    "                  ]\n",
    "\n",
    "optimal_param_grids = []\n",
    "for method, init_params, param_grid in zip(methods, init_params_list,\n",
    "                                             param_grid_list):\n",
    "  param_grid, best_score = grid_search_time_series(method, init_params, \n",
    "                                                   param_grid, n_splits=4)  \n",
    "  optimal_param_grids.append(param_grid)\n",
    "\n",
    "  print(\"best score for %s:\" % (method.__name__), round(best_score, 4))"
   ]
  },
  {
   "cell_type": "code",
   "execution_count": 12,
   "metadata": {
    "colab": {
     "base_uri": "https://localhost:8080/"
    },
    "id": "JzbrN0ohJv90",
    "outputId": "6a4a8282-f309-4b37-ab7f-0ff4dec4d62c"
   },
   "outputs": [
    {
     "name": "stdout",
     "output_type": "stream",
     "text": [
      "Random Forest optimal parameters: {'n_estimators': 50, 'max_features': 'sqrt', 'max_depth': 10, 'bootstrap': False}\n",
      "Boosting optimal parameters: {'max_depth ': 3, 'booster': 'dart'}\n",
      "KNN optimal parameters: {'weights': 'uniform', 'n_neighbors': 3}\n"
     ]
    }
   ],
   "source": [
    "print(\"Random Forest optimal parameters:\", optimal_param_grids[1])\n",
    "print(\"Boosting optimal parameters:\", optimal_param_grids[2])\n",
    "print(\"KNN optimal parameters:\", optimal_param_grids[3])"
   ]
  },
  {
   "cell_type": "code",
   "execution_count": 13,
   "metadata": {
    "colab": {
     "base_uri": "https://localhost:8080/"
    },
    "id": "Twf1nCXkJyic",
    "outputId": "112e3b00-dadd-463d-ab73-94fca8bec670"
   },
   "outputs": [
    {
     "name": "stdout",
     "output_type": "stream",
     "text": [
      "LinearRegression test:\n",
      "RMSE 0.012716105869543479\n",
      "MAE 0.01060028382334492\n",
      "R^2 0.8933009342389963\n",
      "----------------------\n",
      "RandomForestRegressor test:\n",
      "RMSE 0.01111969973233281\n",
      "MAE 0.007647534585958927\n",
      "R^2 0.9184097118566433\n",
      "----------------------\n",
      "XGBRegressor test:\n",
      "RMSE 0.009355309648623083\n",
      "MAE 0.006146117130684853\n",
      "R^2 0.9422477804140821\n",
      "----------------------\n",
      "KNeighborsRegressor test:\n",
      "RMSE 0.01871642301711402\n",
      "MAE 0.012880716666666668\n",
      "R^2 0.7688477892814258\n",
      "----------------------\n"
     ]
    }
   ],
   "source": [
    "for method, init_param, param in zip(methods, init_params_list,\n",
    "                                      optimal_param_grids): \n",
    "  \n",
    "  instance = method(**init_param, **param).fit(X, y)\n",
    "  print(method.__name__, \"test:\")\n",
    "\n",
    "  print(\"RMSE\", mean_squared_error(y_test, instance.predict(X_test),squared=False))\n",
    "  print(\"MAE\", mean_absolute_error(y_test, instance.predict(X_test)))\n",
    "  print(\"R^2\", r2_score(y_test, instance.predict(X_test)))\n",
    "  print(\"----------------------\")"
   ]
  },
  {
   "cell_type": "code",
   "execution_count": 14,
   "metadata": {
    "colab": {
     "base_uri": "https://localhost:8080/",
     "height": 390
    },
    "id": "zYETSpoKKJN_",
    "outputId": "ffa5e81c-80c3-425b-bb65-bbed26ce97b4"
   },
   "outputs": [
    {
     "data": {
      "image/png": "[encoded data removed]",
      "text/plain": [
       "<Figure size 720x432 with 1 Axes>"
      ]
     },
     "metadata": {
      "needs_background": "light",
      "tags": []
     },
     "output_type": "display_data"
    }
   ],
   "source": [
    "rf = RandomForestRegressor(**init_params_list[1], **optimal_param_grids[1]).fit(X, y)\n",
    "\n",
    "feature_names = test_data.drop(columns=[\"TOTAL POROSITY \"]).columns.values\n",
    "importances = rf.feature_importances_\n",
    "\n",
    "indices = np.argsort(importances)\n",
    "\n",
    "\n",
    "y_ticks = np.arange(0, len(feature_names))\n",
    "plt.figure(figsize=(10, 6))\n",
    "\n",
    "plt.title(\"Random Forest Feature Importances\")        \n",
    "\n",
    "plt.barh(y_ticks, \n",
    "        importances[indices])\n",
    "plt.yticks(y_ticks,\n",
    "        feature_names[indices])\n",
    "plt.yticks(y_ticks)\n",
    "\n",
    "plt.show()"
   ]
  },
  {
   "cell_type": "code",
   "execution_count": 9,
   "metadata": {
    "colab": {
     "base_uri": "https://localhost:8080/"
    },
    "id": "OcFW0K-OK5Ah",
    "outputId": "3fdd7f2b-510b-466e-a773-f986068b05b5"
   },
   "outputs": [
    {
     "name": "stderr",
     "output_type": "stream",
     "text": [
      "C:\\Users\\user\\anaconda3\\lib\\site-packages\\IPython\\core\\interactiveshell.py:3063: DtypeWarning: Columns (3,5,6,7,8,9,10,11,12) have mixed types.Specify dtype option on import or set low_memory=False.\n",
      "  interactivity=interactivity, compiler=compiler, result=result)\n"
     ]
    }
   ],
   "source": [
    "well_dataframes = []\n",
    "\n",
    "for name_csv in ['171.csv', '183 PL.csv', '169.csv']:\n",
    "\n",
    "  well_data = pd.read_csv(\"../data/\" + name_csv, sep=\";\", header=None)\n",
    "\n",
    "  well_data[10:].to_csv(\"../data/\" + \"upd\"+name_csv, \n",
    "                      header=None, \n",
    "                      index=None)\n",
    "\n",
    "  well_data = pd.read_csv(\"../data/\" + \"upd\"+name_csv, decimal=',')\n",
    "\n",
    "  well_data = well_data.loc[:, ['DEPTH', 'RESISTIVITY', 'GAMMA RAY',\n",
    "        'DENSITY LOG', 'SONIC LOG P-WAVE', 'SONIC LOG S- WAVE', 'SONIC LOG',\n",
    "        'CALIPER', 'NEUTRON LOG', 'TOTAL POROSITY ']]\n",
    "\n",
    "  well_data.replace(-9999, np.NaN, inplace=True)\n",
    "\n",
    "  for i, column in enumerate(['RESISTIVITY', 'GAMMA RAY',\n",
    "        'DENSITY LOG', 'SONIC LOG P-WAVE', 'SONIC LOG S- WAVE', 'SONIC LOG',\n",
    "        'CALIPER', 'NEUTRON LOG']):\n",
    "    well_data[column].fillna(value=None, method='ffill', \n",
    "                        axis=None, downcast=None,\n",
    "                        inplace=True)\n",
    "\n",
    "  update_features_data(well_data, features=['DENSITY LOG', 'NEUTRON LOG', 'GAMMA RAY'])\n",
    "  well_data.drop(columns = 'DEPTH', inplace=True)\n",
    "\n",
    "  well_dataframes.append(well_data)"
   ]
  },
  {
   "cell_type": "code",
   "execution_count": 10,
   "metadata": {
    "id": "gexPSFKAQJ_U"
   },
   "outputs": [],
   "source": [
    "df171, df183, df169 = well_dataframes"
   ]
  },
  {
   "cell_type": "code",
   "execution_count": 11,
   "metadata": {
    "id": "DVkUUu61QVsN"
   },
   "outputs": [],
   "source": [
    "df171.fillna(-9999, inplace=True)\n",
    "df183.fillna(-9999, inplace=True)\n",
    "df169.fillna(-9999, inplace=True)\n",
    "              \n",
    "X_170 = df171.iloc[21:].drop(columns=[\"TOTAL POROSITY \"]).values\n",
    "y_170 = df171.iloc[21:][\"TOTAL POROSITY \"].values\n",
    "\n",
    "X_183 = df183.iloc[110:10000].drop(columns=[\"TOTAL POROSITY \"]).values\n",
    "y_183 = df183.iloc[110:10000][\"TOTAL POROSITY \"].values\n",
    "\n",
    "X_169 = df169.iloc[21:].drop(columns=[\"TOTAL POROSITY \"]).values\n",
    "y_169 = df169.iloc[21:][\"TOTAL POROSITY \"].values"
   ]
  },
  {
   "cell_type": "code",
   "execution_count": 18,
   "metadata": {
    "colab": {
     "base_uri": "https://localhost:8080/"
    },
    "id": "AZv3u2sVQ9o3",
    "outputId": "4b3ad5ad-3496-4c45-b6ce-6bc4043f1d41"
   },
   "outputs": [
    {
     "name": "stdout",
     "output_type": "stream",
     "text": [
      "------ RandomForestRegressor test:\n",
      "Well: 169\n",
      "RMSE 0.025182233698378645\n",
      "MAE 0.018536960439154326\n",
      "R^2 0.625140004472782\n",
      "----------------------\n",
      "Well: 171\n",
      "RMSE 0.035702534707339334\n",
      "MAE 0.03314884793337869\n",
      "R^2 -0.8488084705606662\n",
      "----------------------\n",
      "Well: 183 PL\n",
      "RMSE 0.045337803506733124\n",
      "MAE 0.039489195933248934\n",
      "R^2 -0.09679236109986888\n",
      "----------------------\n",
      "------ XGBRegressor test:\n",
      "Well: 169\n",
      "RMSE 0.021000408360381324\n",
      "MAE 0.017015489919615955\n",
      "R^2 0.7393029748901208\n",
      "----------------------\n",
      "Well: 171\n",
      "RMSE 0.020469451104864072\n",
      "MAE 0.01728623810931963\n",
      "R^2 0.3922762397290912\n",
      "----------------------\n",
      "Well: 183 PL\n",
      "RMSE 0.02900743395408784\n",
      "MAE 0.02232107794926068\n",
      "R^2 0.5510250720968688\n",
      "----------------------\n"
     ]
    }
   ],
   "source": [
    "for method, init_param, param in zip(methods[1:3], init_params_list[1:3],\n",
    "                                      optimal_param_grids[1:3]):\n",
    "\n",
    "  instance = method(**init_param, **param).fit(X, y)\n",
    "  print(\"------\", method.__name__, \"test:\")\n",
    "\n",
    "  for X_well, y_well, name in zip([X_169, X_170, X_183], \n",
    "                                  [y_169, y_170, y_183], \n",
    "                                  [\"169\", \"171\", \"183 PL\"]):\n",
    "\n",
    "    print(\"Well:\", name)\n",
    "    print(\"RMSE\", mean_squared_error(y_well, instance.predict(X_well), \n",
    "                                     squared=False))\n",
    "    print(\"MAE\", mean_absolute_error(y_well, instance.predict(X_well)))\n",
    "    print(\"R^2\", r2_score(y_well, instance.predict(X_well)))\n",
    "    print(\"----------------------\")"
   ]
  },
  {
   "cell_type": "code",
   "execution_count": 19,
   "metadata": {
    "colab": {
     "base_uri": "https://localhost:8080/"
    },
    "id": "zXrmFQ8IRMTw",
    "outputId": "dd172834-1d38-4a87-9ae3-8c9ecf65a941"
   },
   "outputs": [
    {
     "name": "stdout",
     "output_type": "stream",
     "text": [
      "------ LinearRegression test:\n",
      "Well: 169\n",
      "RMSE 0.06960615996219374\n",
      "MAE 0.06569940188952836\n",
      "R^2 -1.8640193388054165\n",
      "----------------------\n",
      "------ KNeighborsRegressor test:\n",
      "Well: 169\n",
      "RMSE 0.0596740432575101\n",
      "MAE 0.05192376585365853\n",
      "R^2 -1.1049972133017758\n",
      "----------------------\n"
     ]
    }
   ],
   "source": [
    "# regression and knn for 169 well\n",
    "for method, init_param, param in zip([methods[0], methods[-1]],\n",
    "                                     [init_params_list[0], init_params_list[-1]],\n",
    "                                     [optimal_param_grids[0], optimal_param_grids[-1]]):\n",
    "  \n",
    "  pipe = make_pipeline(StandardScaler(), method(**init_param, **param))\n",
    "  instance = pipe.fit(X, y)\n",
    "  print(\"------\", method.__name__, \"test:\")\n",
    "\n",
    "  X_well = X_169\n",
    "  y_well = y_169\n",
    "  name = \"169\"\n",
    "  # print(X_well, y_well, name)\n",
    "  # instance.predict(X_well)\n",
    "  print(\"Well:\", name)\n",
    "  print(\"RMSE\", mean_squared_error(y_well, instance.predict(X_well), \n",
    "                                    squared=False))\n",
    "  print(\"MAE\", mean_absolute_error(y_well, instance.predict(X_well)))\n",
    "  print(\"R^2\", r2_score(y_well, instance.predict(X_well)))\n",
    "  print(\"----------------------\")"
   ]
  },
  {
   "cell_type": "markdown",
   "metadata": {
    "id": "STUvHfRNRXGY"
   },
   "source": [
    "FNN"
   ]
  },
  {
   "cell_type": "code",
   "execution_count": 20,
   "metadata": {
    "id": "Me3yAgysRT7q"
   },
   "outputs": [],
   "source": [
    "import torchvision\n",
    "from torchvision import transforms\n",
    "from torch import nn\n",
    "import torch.nn.functional as F\n",
    "import torch\n",
    "\n",
    "import time"
   ]
  },
  {
   "cell_type": "code",
   "execution_count": 21,
   "metadata": {
    "id": "wJ7w2Dx0RZYW"
   },
   "outputs": [],
   "source": [
    "scaler = StandardScaler()\n",
    "\n",
    "normed_X = scaler.fit_transform(X)\n",
    "\n",
    "normed_X_test = scaler.transform(X_test)"
   ]
  },
  {
   "cell_type": "code",
   "execution_count": 22,
   "metadata": {
    "colab": {
     "base_uri": "https://localhost:8080/"
    },
    "id": "krrq2uEeR3iK",
    "outputId": "2598ddb9-7184-401c-c6e4-15b09b02c020"
   },
   "outputs": [
    {
     "data": {
      "text/plain": [
       "device(type='cpu')"
      ]
     },
     "execution_count": 22,
     "metadata": {
      "tags": []
     },
     "output_type": "execute_result"
    }
   ],
   "source": [
    "device = torch.device('cuda' if torch.cuda.is_available() else 'cpu')\n",
    "device"
   ]
  },
  {
   "cell_type": "code",
   "execution_count": 23,
   "metadata": {
    "id": "xg3BDXFrR66e"
   },
   "outputs": [],
   "source": [
    "class FNN(nn.Module):\n",
    "    def __init__(self, inp_size=8):\n",
    "        super(self.__class__, self).__init__()\n",
    "        \n",
    "        # self.rnn = nn.RNN(emb_size, rnn_num_units, batch_first=True)\n",
    "        self.hid1 = nn.Linear(inp_size, 16)\n",
    "        self.dropout1 = nn.Dropout()\n",
    "\n",
    "        self.hid2 = nn.Linear(16, 16)\n",
    "        self.dropout2 = nn.Dropout()\n",
    "\n",
    "        self.hid3 = nn.Linear(16, 1)\n",
    "        \n",
    "    def forward(self, x):\n",
    "        \n",
    "        x1 = nn.ReLU()(self.dropout1(self.hid1(x)))\n",
    "        x2 = nn.ReLU()(self.dropout2(self.hid2(x1)))\n",
    "        out = self.hid3(x1)\n",
    "\n",
    "        return out\n",
    "\n",
    "\n",
    "def iterate_minibatches(X, y, batchsize, shuffle=True):\n",
    "    np.random.seed(42)\n",
    "    indices = np.arange(len(X))\n",
    "    if shuffle:\n",
    "        indices = np.random.permutation(indices)\n",
    "    for start in range(0, len(indices), batchsize):\n",
    "        ix = indices[start: start + batchsize]\n",
    "        yield X[ix], y[ix]\n",
    "\n",
    "def compute_loss(X_batch, y_batch):\n",
    "    X_batch = torch.FloatTensor(X_batch).to(device)\n",
    "    y_batch = torch.FloatTensor(y_batch).to(device)\n",
    "\n",
    "    y_pred = model(X_batch)[..., 0]\n",
    "    return F.mse_loss(y_pred, y_batch).mean()     "
   ]
  },
  {
   "cell_type": "code",
   "execution_count": 24,
   "metadata": {
    "colab": {
     "base_uri": "https://localhost:8080/"
    },
    "id": "FvWDKkikSAnr",
    "outputId": "ba8cdc76-4a09-4284-fa29-0f98b4431d3b"
   },
   "outputs": [
    {
     "name": "stdout",
     "output_type": "stream",
     "text": [
      "Epoch 1 of 20 took 0.525s\n",
      "  training loss (in-iteration): \t0.005603\n",
      "  validation loss: \t\t\t0.000925\n",
      "Epoch 2 of 20 took 0.342s\n",
      "  training loss (in-iteration): \t0.000597\n",
      "  validation loss: \t\t\t0.000790\n",
      "Epoch 3 of 20 took 0.366s\n",
      "  training loss (in-iteration): \t0.000557\n",
      "  validation loss: \t\t\t0.001343\n",
      "Epoch 4 of 20 took 0.338s\n",
      "  training loss (in-iteration): \t0.000528\n",
      "  validation loss: \t\t\t0.000307\n",
      "Epoch 5 of 20 took 0.339s\n",
      "  training loss (in-iteration): \t0.000424\n",
      "  validation loss: \t\t\t0.000770\n",
      "Epoch 6 of 20 took 0.343s\n",
      "  training loss (in-iteration): \t0.000441\n",
      "  validation loss: \t\t\t0.000467\n",
      "Epoch 7 of 20 took 0.334s\n",
      "  training loss (in-iteration): \t0.000441\n",
      "  validation loss: \t\t\t0.000439\n",
      "Epoch 8 of 20 took 0.338s\n",
      "  training loss (in-iteration): \t0.000390\n",
      "  validation loss: \t\t\t0.000309\n",
      "Epoch 9 of 20 took 0.352s\n",
      "  training loss (in-iteration): \t0.000402\n",
      "  validation loss: \t\t\t0.000963\n",
      "Epoch 10 of 20 took 0.334s\n",
      "  training loss (in-iteration): \t0.000409\n",
      "  validation loss: \t\t\t0.000537\n",
      "Epoch 11 of 20 took 0.349s\n",
      "  training loss (in-iteration): \t0.000413\n",
      "  validation loss: \t\t\t0.000273\n",
      "Epoch 12 of 20 took 0.354s\n",
      "  training loss (in-iteration): \t0.000466\n",
      "  validation loss: \t\t\t0.000359\n",
      "Epoch 13 of 20 took 0.342s\n",
      "  training loss (in-iteration): \t0.000455\n",
      "  validation loss: \t\t\t0.000407\n",
      "Epoch 14 of 20 took 0.339s\n",
      "  training loss (in-iteration): \t0.000488\n",
      "  validation loss: \t\t\t0.000840\n",
      "Epoch 15 of 20 took 0.346s\n",
      "  training loss (in-iteration): \t0.000553\n",
      "  validation loss: \t\t\t0.000414\n",
      "Epoch 16 of 20 took 0.339s\n",
      "  training loss (in-iteration): \t0.000554\n",
      "  validation loss: \t\t\t0.001290\n",
      "Epoch 17 of 20 took 0.357s\n",
      "  training loss (in-iteration): \t0.000579\n",
      "  validation loss: \t\t\t0.000190\n",
      "Epoch 18 of 20 took 0.362s\n",
      "  training loss (in-iteration): \t0.000589\n",
      "  validation loss: \t\t\t0.000851\n",
      "Epoch 19 of 20 took 0.337s\n",
      "  training loss (in-iteration): \t0.000582\n",
      "  validation loss: \t\t\t0.000867\n",
      "Epoch 20 of 20 took 0.344s\n",
      "  training loss (in-iteration): \t0.000665\n",
      "  validation loss: \t\t\t0.000814\n"
     ]
    }
   ],
   "source": [
    "torch.manual_seed(42)\n",
    "torch.backends.cudnn.deterministic = True\n",
    "\n",
    "model = FNN(inp_size=11).to(device)\n",
    "opt = torch.optim.Adam(model.parameters(), lr=0.01)\n",
    "\n",
    "train_loss = []\n",
    "val_loss = []\n",
    "\n",
    "num_epochs = 20 # общее кол-во полных проходов по обучаемым данным\n",
    "batch_size = 16  # кол-во объектов в одном батче\n",
    "\n",
    "for epoch in range(num_epochs):\n",
    "    # На каждой эпохе делаем полный проход по данным\n",
    "    start_time = time.time()\n",
    "    model.train(True) # устанавливаем поведение dropout / batch_norm  в обучение\n",
    "    for i, (X_batch, y_batch) in enumerate(iterate_minibatches(normed_X, y, batch_size)):\n",
    "        # Обучаемся на батче\n",
    "        loss = compute_loss(X_batch, y_batch)\n",
    "        # print(\"compute\", i)\n",
    "        loss.backward()      # обратный проход, считаем градиенты\n",
    "        opt.step()           # делаем шаг градиентного спуска\n",
    "        opt.zero_grad()      # зануляем градиенты        \n",
    "        # print(\"after grad\")\n",
    "        train_loss.append(float(loss))\n",
    "        \n",
    "    # Полный проход по валидации\n",
    "    model.train(False) # устанавливаем поведение dropout / batch_norm  в тестирование\n",
    "    for X_batch, y_batch in iterate_minibatches(normed_X_test, y_test, batch_size):\n",
    "        loss = compute_loss(X_batch, y_batch)\n",
    "        val_loss.append(float(loss)) \n",
    "\n",
    "    \n",
    "    # Печатаем результаты после каждой эпохи\n",
    "    print(\"Epoch {} of {} took {:.3f}s\".format(\n",
    "        epoch + 1, num_epochs, time.time() - start_time))\n",
    "    print(\"  training loss (in-iteration): \\t{:.6f}\".format(\n",
    "        np.mean(train_loss[-len(normed_X) // batch_size :])))\n",
    "    print(\"  validation loss: \\t\\t\\t{:.6f}\".format(\n",
    "        np.mean(val_loss[-len(normed_X_test) // batch_size :])))"
   ]
  },
  {
   "cell_type": "code",
   "execution_count": 25,
   "metadata": {
    "colab": {
     "base_uri": "https://localhost:8080/"
    },
    "id": "s6eWngK2SCNT",
    "outputId": "1821dc85-6949-4e7e-8f86-a15d7f5b3d95"
   },
   "outputs": [
    {
     "name": "stdout",
     "output_type": "stream",
     "text": [
      "170 :\n",
      "RMSE 0.028527566551703507\n",
      "MAE 0.025453351222336294\n",
      "R^2 0.4629907071194326\n",
      "----------------------\n",
      "169 :\n",
      "RMSE 0.022608647070962364\n",
      "MAE 0.017769323012947456\n",
      "R^2 0.6978450283558728\n",
      "----------------------\n"
     ]
    }
   ],
   "source": [
    "normed_X_169 = scaler.transform(X_169)\n",
    "\n",
    "for X_well, y_well, name in zip([normed_X_test, normed_X_169],\n",
    "                                [y_test, y_169],\n",
    "                                [\"170\", \"169\"]):\n",
    "\n",
    "    y_pred = model(torch.FloatTensor(X_well).to(device))[..., 0].detach().cpu().numpy()\n",
    "\n",
    "    print(name, \":\")\n",
    "\n",
    "    print(\"RMSE\", mean_squared_error(y_well, y_pred, squared=False))\n",
    "    print(\"MAE\", mean_absolute_error(y_well, y_pred))\n",
    "    print(\"R^2\", r2_score(y_well, y_pred))\n",
    "    print(\"----------------------\")"
   ]
  },
  {
   "cell_type": "code",
   "execution_count": 25,
   "metadata": {
    "id": "H86FsRDFSPYT"
   },
   "outputs": [],
   "source": []
  }
 ],
 "metadata": {
  "colab": {
   "name": "well_log_feature_engineering.ipynb",
   "provenance": []
  },
  "kernelspec": {
   "display_name": "Python 3",
   "language": "python",
   "name": "python3"
  },
  "language_info": {
   "codemirror_mode": {
    "name": "ipython",
    "version": 3
   },
   "file_extension": ".py",
   "mimetype": "text/x-python",
   "name": "python",
   "nbconvert_exporter": "python",
   "pygments_lexer": "ipython3",
   "version": "3.7.6"
  }
 },
 "nbformat": 4,
 "nbformat_minor": 1
}
